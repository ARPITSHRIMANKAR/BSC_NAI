{
 "cells": [
  {
   "cell_type": "code",
   "execution_count": 1,
   "metadata": {},
   "outputs": [],
   "source": [
    "## new\n",
    "\n",
    "import numpy as np\n",
    "import pandas as pd\n",
    "import json\n",
    "import requests\n",
    "from tqdm import tqdm\n",
    "\n",
    "\n",
    "def get_first_page_per_country(country):\n",
    "    \"\"\"\n",
    "    @country: the country for which we download metadata content \n",
    "    @returns: the content downloaded\n",
    "    \"\"\"\n",
    "    api_search = f\"https://www.xeno-canto.org/api/2/recordings?query=cnt:{country}\"\n",
    "    response = requests.get(api_search)\n",
    "    if response.status_code == 200:\n",
    "        response_payload = json.loads(response.content)\n",
    "        return response_payload\n",
    "    else:\n",
    "        return None\n",
    "\n",
    "def get_page_per_country(country, page):\n",
    "    \"\"\"\n",
    "    @country: the country for which we download metadata content \n",
    "    @page: the current page to be downloaded\n",
    "    @returns: the content downloaded\n",
    "    \"\"\"\n",
    "    api_search = f\"https://www.xeno-canto.org/api/2/recordings?query=cnt:{country}&page={page}\"\n",
    "    response = requests.get(api_search)\n",
    "    if response.status_code == 200:\n",
    "        response_payload = json.loads(response.content)\n",
    "        return response_payload\n",
    "    else:\n",
    "        return None\n",
    "\n",
    "def inspect_json(json_data):\n",
    "    \"\"\"\n",
    "    @json_data: json data to be inspected\n",
    "    \"\"\"\n",
    "    print(f\"recordings: {json_data['numRecordings']}\")\n",
    "    print(f\"species: {json_data['numSpecies']}\")\n",
    "    print(f\"page: {json_data['page']}\")\n",
    "    print(f\"number pages: {json_data['numPages']}\")\n",
    "\n",
    "def get_recordings(payload):\n",
    "    \"\"\"\n",
    "    @payload: json data from which we extract the bird recordings metadata collection\n",
    "    @returns: birds recordings metadata collection\n",
    "    \"\"\"\n",
    "    return payload[\"recordings\"]\n",
    "\n",
    "def download_suite_from_country(country, country_initial_payload):\n",
    "    \"\"\"\n",
    "    @country: the country for which we download metadata content \n",
    "    @country_initial_payload: the initial downloaded payload for the country (1st page). We download all the other pages.\n",
    "    @returns: the content recordings (all pages, including the original one)\n",
    "    \"\"\"\n",
    "    pages = country_initial_payload[\"numPages\"]\n",
    "    \n",
    "    all_recordings = []\n",
    "    all_recordings = all_recordings + get_recordings(country_initial_payload)\n",
    "    for page in tqdm(range(2,pages+1)):\n",
    "        payload = get_page_per_country(country, page)\n",
    "        recordings = get_recordings(payload)\n",
    "        all_recordings = all_recordings + recordings\n",
    "    \n",
    "    return all_recordings\n",
    "\n",
    "\n",
    "\n",
    "def download_save_all_meta_for_country(country):\n",
    "    # download first batch. From here we extract the number of pages\n",
    "    birds = get_first_page_per_country(country)\n",
    "    # let's inspect the first batch\n",
    "    inspect_json(birds)\n",
    "    print(f\"recordings in first batch: {len(get_recordings(birds))}\")\n",
    "    # download entire suite (all pages)\n",
    "    suite = download_suite_from_country(country, birds)\n",
    "    # convert the collection in a dataFrame\n",
    "    data_df = pd.DataFrame.from_records(suite)\n",
    "    # export the dataframe as a csv\n",
    "    data_df.to_csv(f\"birds_{country}.csv\", index=False)\n",
    "    print(f\"suite length: {data_df.shape[0]}\")\n",
    "    return data_df"
   ]
  },
  {
   "attachments": {},
   "cell_type": "markdown",
   "metadata": {},
   "source": [
    "Extract data for country"
   ]
  },
  {
   "cell_type": "code",
   "execution_count": 2,
   "metadata": {},
   "outputs": [
    {
     "name": "stderr",
     "output_type": "stream",
     "text": [
      "  0%|          | 0/32 [00:00<?, ?it/s]"
     ]
    },
    {
     "name": "stdout",
     "output_type": "stream",
     "text": [
      "recordings: 16398\n",
      "species: 1010\n",
      "page: 1\n",
      "number pages: 33\n",
      "recordings in first batch: 500\n"
     ]
    },
    {
     "name": "stderr",
     "output_type": "stream",
     "text": [
      "100%|██████████| 32/32 [01:13<00:00,  2.30s/it]\n"
     ]
    },
    {
     "name": "stdout",
     "output_type": "stream",
     "text": [
      "suite length: 16398\n"
     ]
    }
   ],
   "source": [
    "data_df = download_save_all_meta_for_country('india')"
   ]
  },
  {
   "cell_type": "code",
   "execution_count": null,
   "metadata": {},
   "outputs": [],
   "source": []
  }
 ],
 "metadata": {
  "kernelspec": {
   "display_name": "base",
   "language": "python",
   "name": "python3"
  },
  "language_info": {
   "codemirror_mode": {
    "name": "ipython",
    "version": 3
   },
   "file_extension": ".py",
   "mimetype": "text/x-python",
   "name": "python",
   "nbconvert_exporter": "python",
   "pygments_lexer": "ipython3",
   "version": "3.8.5"
  },
  "orig_nbformat": 4
 },
 "nbformat": 4,
 "nbformat_minor": 2
}
